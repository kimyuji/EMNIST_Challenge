{
  "nbformat": 4,
  "nbformat_minor": 0,
  "metadata": {
    "colab": {
      "name": "프로젝트_2.ipynb",
      "provenance": [],
      "collapsed_sections": [],
      "include_colab_link": true
    },
    "kernelspec": {
      "name": "python3",
      "display_name": "Python 3"
    },
    "accelerator": "GPU",
    "widgets": {
      "application/vnd.jupyter.widget-state+json": {
        "468325605a7c43cb9e2168cfe9c68fb3": {
          "model_module": "@jupyter-widgets/controls",
          "model_name": "HBoxModel",
          "state": {
            "_view_name": "HBoxView",
            "_dom_classes": [],
            "_model_name": "HBoxModel",
            "_view_module": "@jupyter-widgets/controls",
            "_model_module_version": "1.5.0",
            "_view_count": null,
            "_view_module_version": "1.5.0",
            "box_style": "",
            "layout": "IPY_MODEL_4e91c2d2b2584d0db73a453dd4ad2804",
            "_model_module": "@jupyter-widgets/controls",
            "children": [
              "IPY_MODEL_0d5e046648aa47219819fa1c1dfcf270",
              "IPY_MODEL_f09950101e614fcc9db07439b3d23567"
            ]
          }
        },
        "4e91c2d2b2584d0db73a453dd4ad2804": {
          "model_module": "@jupyter-widgets/base",
          "model_name": "LayoutModel",
          "state": {
            "_view_name": "LayoutView",
            "grid_template_rows": null,
            "right": null,
            "justify_content": null,
            "_view_module": "@jupyter-widgets/base",
            "overflow": null,
            "_model_module_version": "1.2.0",
            "_view_count": null,
            "flex_flow": null,
            "width": null,
            "min_width": null,
            "border": null,
            "align_items": null,
            "bottom": null,
            "_model_module": "@jupyter-widgets/base",
            "top": null,
            "grid_column": null,
            "overflow_y": null,
            "overflow_x": null,
            "grid_auto_flow": null,
            "grid_area": null,
            "grid_template_columns": null,
            "flex": null,
            "_model_name": "LayoutModel",
            "justify_items": null,
            "grid_row": null,
            "max_height": null,
            "align_content": null,
            "visibility": null,
            "align_self": null,
            "height": null,
            "min_height": null,
            "padding": null,
            "grid_auto_rows": null,
            "grid_gap": null,
            "max_width": null,
            "order": null,
            "_view_module_version": "1.2.0",
            "grid_template_areas": null,
            "object_position": null,
            "object_fit": null,
            "grid_auto_columns": null,
            "margin": null,
            "display": null,
            "left": null
          }
        },
        "0d5e046648aa47219819fa1c1dfcf270": {
          "model_module": "@jupyter-widgets/controls",
          "model_name": "FloatProgressModel",
          "state": {
            "_view_name": "ProgressView",
            "style": "IPY_MODEL_066b063fb2b54477b2c1b7bd113159cc",
            "_dom_classes": [],
            "description": "",
            "_model_name": "FloatProgressModel",
            "bar_style": "info",
            "max": 1,
            "_view_module": "@jupyter-widgets/controls",
            "_model_module_version": "1.5.0",
            "value": 1,
            "_view_count": null,
            "_view_module_version": "1.5.0",
            "orientation": "horizontal",
            "min": 0,
            "description_tooltip": null,
            "_model_module": "@jupyter-widgets/controls",
            "layout": "IPY_MODEL_393362bd0abd49559974408ae384c256"
          }
        },
        "f09950101e614fcc9db07439b3d23567": {
          "model_module": "@jupyter-widgets/controls",
          "model_name": "HTMLModel",
          "state": {
            "_view_name": "HTMLView",
            "style": "IPY_MODEL_d154960dc2af47aba3ad475cdb972760",
            "_dom_classes": [],
            "description": "",
            "_model_name": "HTMLModel",
            "placeholder": "​",
            "_view_module": "@jupyter-widgets/controls",
            "_model_module_version": "1.5.0",
            "value": " 561758208/? [00:40&lt;00:00, 15768676.98it/s]",
            "_view_count": null,
            "_view_module_version": "1.5.0",
            "description_tooltip": null,
            "_model_module": "@jupyter-widgets/controls",
            "layout": "IPY_MODEL_f98d34c4ae1c40d2b4e8e9028d540080"
          }
        },
        "066b063fb2b54477b2c1b7bd113159cc": {
          "model_module": "@jupyter-widgets/controls",
          "model_name": "ProgressStyleModel",
          "state": {
            "_view_name": "StyleView",
            "_model_name": "ProgressStyleModel",
            "description_width": "initial",
            "_view_module": "@jupyter-widgets/base",
            "_model_module_version": "1.5.0",
            "_view_count": null,
            "_view_module_version": "1.2.0",
            "bar_color": null,
            "_model_module": "@jupyter-widgets/controls"
          }
        },
        "393362bd0abd49559974408ae384c256": {
          "model_module": "@jupyter-widgets/base",
          "model_name": "LayoutModel",
          "state": {
            "_view_name": "LayoutView",
            "grid_template_rows": null,
            "right": null,
            "justify_content": null,
            "_view_module": "@jupyter-widgets/base",
            "overflow": null,
            "_model_module_version": "1.2.0",
            "_view_count": null,
            "flex_flow": null,
            "width": null,
            "min_width": null,
            "border": null,
            "align_items": null,
            "bottom": null,
            "_model_module": "@jupyter-widgets/base",
            "top": null,
            "grid_column": null,
            "overflow_y": null,
            "overflow_x": null,
            "grid_auto_flow": null,
            "grid_area": null,
            "grid_template_columns": null,
            "flex": null,
            "_model_name": "LayoutModel",
            "justify_items": null,
            "grid_row": null,
            "max_height": null,
            "align_content": null,
            "visibility": null,
            "align_self": null,
            "height": null,
            "min_height": null,
            "padding": null,
            "grid_auto_rows": null,
            "grid_gap": null,
            "max_width": null,
            "order": null,
            "_view_module_version": "1.2.0",
            "grid_template_areas": null,
            "object_position": null,
            "object_fit": null,
            "grid_auto_columns": null,
            "margin": null,
            "display": null,
            "left": null
          }
        },
        "d154960dc2af47aba3ad475cdb972760": {
          "model_module": "@jupyter-widgets/controls",
          "model_name": "DescriptionStyleModel",
          "state": {
            "_view_name": "StyleView",
            "_model_name": "DescriptionStyleModel",
            "description_width": "",
            "_view_module": "@jupyter-widgets/base",
            "_model_module_version": "1.5.0",
            "_view_count": null,
            "_view_module_version": "1.2.0",
            "_model_module": "@jupyter-widgets/controls"
          }
        },
        "f98d34c4ae1c40d2b4e8e9028d540080": {
          "model_module": "@jupyter-widgets/base",
          "model_name": "LayoutModel",
          "state": {
            "_view_name": "LayoutView",
            "grid_template_rows": null,
            "right": null,
            "justify_content": null,
            "_view_module": "@jupyter-widgets/base",
            "overflow": null,
            "_model_module_version": "1.2.0",
            "_view_count": null,
            "flex_flow": null,
            "width": null,
            "min_width": null,
            "border": null,
            "align_items": null,
            "bottom": null,
            "_model_module": "@jupyter-widgets/base",
            "top": null,
            "grid_column": null,
            "overflow_y": null,
            "overflow_x": null,
            "grid_auto_flow": null,
            "grid_area": null,
            "grid_template_columns": null,
            "flex": null,
            "_model_name": "LayoutModel",
            "justify_items": null,
            "grid_row": null,
            "max_height": null,
            "align_content": null,
            "visibility": null,
            "align_self": null,
            "height": null,
            "min_height": null,
            "padding": null,
            "grid_auto_rows": null,
            "grid_gap": null,
            "max_width": null,
            "order": null,
            "_view_module_version": "1.2.0",
            "grid_template_areas": null,
            "object_position": null,
            "object_fit": null,
            "grid_auto_columns": null,
            "margin": null,
            "display": null,
            "left": null
          }
        }
      }
    }
  },
  "cells": [
    {
      "cell_type": "markdown",
      "metadata": {
        "id": "view-in-github",
        "colab_type": "text"
      },
      "source": [
        "<a href=\"https://colab.research.google.com/github/kimyuji/EMNIST_Challenge/blob/main/%ED%94%84%EB%A1%9C%EC%A0%9D%ED%8A%B8_2.ipynb\" target=\"_parent\"><img src=\"https://colab.research.google.com/assets/colab-badge.svg\" alt=\"Open In Colab\"/></a>"
      ]
    },
    {
      "cell_type": "code",
      "metadata": {
        "id": "o4qiTR4ww2lS"
      },
      "source": [
        "import numpy as np\n",
        "import torch\n",
        "import torch.nn as nn\n",
        "import torch.nn.functional as F\n",
        "import torchvision\n",
        "import torchvision.transforms as transforms\n",
        "from torch.utils.data import Dataset, DataLoader, SubsetRandomSampler\n",
        "import time\n",
        "import matplotlib\n",
        "import matplotlib.pyplot as plt\n",
        "from matplotlib.pyplot import imshow\n",
        "import random\n",
        "import pandas as pd\n",
        "%matplotlib inline"
      ],
      "execution_count": null,
      "outputs": []
    },
    {
      "cell_type": "markdown",
      "metadata": {
        "id": "85xXXEuNyuNt"
      },
      "source": [
        "## 0. Device Configuration and define Hyperparameters"
      ]
    },
    {
      "cell_type": "code",
      "metadata": {
        "id": "g3Oge1sGw8lY"
      },
      "source": [
        "np.random.seed(0)\n",
        "torch.manual_seed(0)\n",
        "torch.cuda.manual_seed(0)\n",
        "device = torch.device('cuda' if torch.cuda.is_available() else 'cpu')\n",
        "\n",
        "# Hyper parameters\n",
        "input_size = 28 # EMNIST : 28*28*1\n",
        "num_classes = 47 # label 종류\n",
        "batch_size = 100 \n",
        "num_epochs = 10\n",
        "split_ratio = 0.1\n",
        "learning_rate=0.001"
      ],
      "execution_count": null,
      "outputs": []
    },
    {
      "cell_type": "markdown",
      "metadata": {
        "id": "tmxgvXdsy0_b"
      },
      "source": [
        "\n",
        "## 1. Load data"
      ]
    },
    {
      "cell_type": "code",
      "metadata": {
        "id": "gGpjowYaxgE2",
        "colab": {
          "base_uri": "https://localhost:8080/",
          "height": 293,
          "referenced_widgets": [
            "468325605a7c43cb9e2168cfe9c68fb3",
            "4e91c2d2b2584d0db73a453dd4ad2804",
            "0d5e046648aa47219819fa1c1dfcf270",
            "f09950101e614fcc9db07439b3d23567",
            "066b063fb2b54477b2c1b7bd113159cc",
            "393362bd0abd49559974408ae384c256",
            "d154960dc2af47aba3ad475cdb972760",
            "f98d34c4ae1c40d2b4e8e9028d540080"
          ]
        },
        "outputId": "984045de-0315-4757-c2d7-fbb6d509a4b1"
      },
      "source": [
        "train_data = torchvision.datasets.EMNIST(\n",
        "    root = './',\n",
        "    split = 'bymerge',\n",
        "    train = True,\n",
        "    download = True,\n",
        "    transform = transforms.Compose([\n",
        "        transforms.ToTensor() \n",
        "    ])\n",
        ")\n",
        "test_data = torchvision.datasets.EMNIST(\n",
        "    root = './',\n",
        "    split = 'bymerge',\n",
        "    train = False,\n",
        "    download = True,\n",
        "    transform = transforms.Compose([\n",
        "        transforms.ToTensor() \n",
        "    ])\n",
        ")"
      ],
      "execution_count": null,
      "outputs": [
        {
          "output_type": "stream",
          "text": [
            "Downloading and extracting zip archive\n",
            "Downloading http://www.itl.nist.gov/iaui/vip/cs_links/EMNIST/gzip.zip to ./EMNIST/raw/emnist.zip\n"
          ],
          "name": "stdout"
        },
        {
          "output_type": "display_data",
          "data": {
            "application/vnd.jupyter.widget-view+json": {
              "model_id": "468325605a7c43cb9e2168cfe9c68fb3",
              "version_minor": 0,
              "version_major": 2
            },
            "text/plain": [
              "HBox(children=(FloatProgress(value=1.0, bar_style='info', max=1.0), HTML(value='')))"
            ]
          },
          "metadata": {
            "tags": []
          }
        },
        {
          "output_type": "stream",
          "text": [
            "Extracting ./EMNIST/raw/emnist.zip to ./EMNIST/raw\n",
            "Processing byclass\n"
          ],
          "name": "stdout"
        },
        {
          "output_type": "stream",
          "text": [
            "/usr/local/lib/python3.6/dist-packages/torchvision/datasets/mnist.py:480: UserWarning: The given NumPy array is not writeable, and PyTorch does not support non-writeable tensors. This means you can write to the underlying (supposedly non-writeable) NumPy array using the tensor. You may want to copy the array to protect its data or make it writeable before converting it to a tensor. This type of warning will be suppressed for the rest of this program. (Triggered internally at  /pytorch/torch/csrc/utils/tensor_numpy.cpp:141.)\n",
            "  return torch.from_numpy(parsed.astype(m[2], copy=False)).view(*s)\n"
          ],
          "name": "stderr"
        },
        {
          "output_type": "stream",
          "text": [
            "Processing bymerge\n",
            "Processing balanced\n",
            "Processing letters\n",
            "Processing digits\n",
            "Processing mnist\n",
            "Done!\n"
          ],
          "name": "stdout"
        }
      ]
    },
    {
      "cell_type": "markdown",
      "metadata": {
        "id": "fsLScugC4tPA"
      },
      "source": [
        "## 2. Split train set and validation set"
      ]
    },
    {
      "cell_type": "code",
      "metadata": {
        "id": "qan-5xak6F2J"
      },
      "source": [
        "data_size = len(train_data)\n",
        "data_indices = list(range(data_size))\n",
        "np.random.shuffle(data_indices) # shuffle하기\n",
        "val_split_index = int(np.floor(0.2 * data_size))\n",
        "train_idx, val_idx = data_indices[val_split_index:], data_indices[:val_split_index]\n",
        "train_sampler = SubsetRandomSampler(train_idx)\n",
        "val_sampler = SubsetRandomSampler(val_idx)"
      ],
      "execution_count": null,
      "outputs": []
    },
    {
      "cell_type": "markdown",
      "metadata": {
        "id": "KgAvedR94z05"
      },
      "source": [
        "## 3. Define dataloader"
      ]
    },
    {
      "cell_type": "code",
      "metadata": {
        "id": "sglt8I8M6d8U"
      },
      "source": [
        "train_loader = torch.utils.data.DataLoader(dataset=train_data,\n",
        "                                           batch_size=batch_size,\n",
        "                                           sampler=train_sampler) #shuffle 필수\n",
        "\n",
        "valid_loader = torch.utils.data.DataLoader(dataset=train_data,\n",
        "                                           batch_size=batch_size,\n",
        "                                           sampler=val_sampler) #shuffle 필수\n",
        "\n",
        "test_loader = torch.utils.data.DataLoader(dataset=test_data,\n",
        "                                          batch_size=batch_size,\n",
        "                                          shuffle=False)"
      ],
      "execution_count": null,
      "outputs": []
    },
    {
      "cell_type": "code",
      "metadata": {
        "colab": {
          "base_uri": "https://localhost:8080/"
        },
        "id": "vA3WVaPdzcYW",
        "outputId": "90903e22-3bd4-499b-9495-479f9adc7bec"
      },
      "source": [
        "# cf) Check dataloader shape\n",
        "image, label = next(iter(test_loader))\n",
        "print(image.size()) # [Batch, Channel, Height, Width]  #batch_size=50으로 지정했음\n",
        "print(label.size()) # 숫자이기 때문에 batch size인 50만 출력됨"
      ],
      "execution_count": null,
      "outputs": [
        {
          "output_type": "stream",
          "text": [
            "torch.Size([100, 1, 28, 28])\n",
            "torch.Size([100])\n"
          ],
          "name": "stdout"
        }
      ]
    },
    {
      "cell_type": "code",
      "metadata": {
        "id": "sOQxosV7zeZf"
      },
      "source": [
        "def image_show(dataset, num):\n",
        "  fig = plt.figure(figsize=(30,30))\n",
        "\n",
        "  for i in range(num):\n",
        "    plt.subplot(1, num, i+1)\n",
        "    plt.imshow(dataset[i][0].squeeze()) # input image\n",
        "    plt.title(dataset[i][1]) # label : 0,1"
      ],
      "execution_count": null,
      "outputs": []
    },
    {
      "cell_type": "code",
      "metadata": {
        "colab": {
          "base_uri": "https://localhost:8080/",
          "height": 94
        },
        "id": "fp5FIX7AzirI",
        "outputId": "ce7d6066-1f1f-4f2f-819c-9d77f98c5f6e"
      },
      "source": [
        "image_show(train_data, 20)\n"
      ],
      "execution_count": null,
      "outputs": [
        {
          "output_type": "display_data",
          "data": {
            "image/png": "[encoded data removed]",
            "text/plain": [
              "<Figure size 2160x2160 with 20 Axes>"
            ]
          },
          "metadata": {
            "tags": [],
            "needs_background": "light"
          }
        }
      ]
    },
    {
      "cell_type": "markdown",
      "metadata": {
        "id": "lN-Nxzdux51p"
      },
      "source": [
        "## 4. Define a model"
      ]
    },
    {
      "cell_type": "code",
      "metadata": {
        "id": "k-AwO6Xb6kfr"
      },
      "source": [
        "class model2(nn.Module):\n",
        "  def __init__(self):\n",
        "    super(model2, self).__init__()\n",
        "    self.layer1 = nn.Sequential(\n",
        "        nn.Conv2d(in_channels=1, out_channels=10, kernel_size=3, stride=1, padding=1), #edge, all info\n",
        "        nn.BatchNorm2d(10),\n",
        "        nn.ReLU(),\n",
        "        nn.MaxPool2d(kernel_size=2, stride=2)\n",
        "    )\n",
        "    self.layer2 = nn.Sequential(\n",
        "        nn.Conv2d(in_channels=10, out_channels=50, kernel_size=5, stride=1, padding=1), # image의 특성\n",
        "        nn.BatchNorm2d(50),\n",
        "        nn.ReLU(),\n",
        "        nn.MaxPool2d(kernel_size=2, stride=2)\n",
        "    )\n",
        "    self.layer3 = nn.Sequential(\n",
        "        nn.Conv2d(in_channels=50, out_channels=100, kernel_size=5, stride=1, padding=1),\n",
        "        nn.BatchNorm2d(100),\n",
        "        nn.ReLU(),\n",
        "        nn.MaxPool2d(kernel_size=2, stride=2)\n",
        "    )\n",
        "    self.dropout = nn.Dropout(0.1)\n",
        "    self.fc = nn.Sequential(\n",
        "        nn.Linear(2*2*100, 200),\n",
        "        nn.Linear(200,100),\n",
        "        nn.Linear(100,47)\n",
        "    )\n",
        "  def forward(self, input):\n",
        "      out = self.layer1(input)\n",
        "      out = self.layer2(out)\n",
        "      out = self.layer3(out)\n",
        "      out = out.reshape(out.size(0), -1)\n",
        "      out = self.dropout(out)\n",
        "      out = self.fc(out)\n",
        "\n",
        "      return out\n",
        "\n",
        "model = model2().to(device)"
      ],
      "execution_count": null,
      "outputs": []
    },
    {
      "cell_type": "code",
      "metadata": {
        "id": "_pfSL8c-1noq",
        "colab": {
          "base_uri": "https://localhost:8080/"
        },
        "outputId": "8a3f6975-e1b1-45db-b4c9-d199791f20c7"
      },
      "source": [
        "print(model)"
      ],
      "execution_count": null,
      "outputs": [
        {
          "output_type": "stream",
          "text": [
            "model2(\n",
            "  (layer1): Sequential(\n",
            "    (0): Conv2d(1, 10, kernel_size=(3, 3), stride=(1, 1), padding=(1, 1))\n",
            "    (1): BatchNorm2d(10, eps=1e-05, momentum=0.1, affine=True, track_running_stats=True)\n",
            "    (2): ReLU()\n",
            "    (3): MaxPool2d(kernel_size=2, stride=2, padding=0, dilation=1, ceil_mode=False)\n",
            "  )\n",
            "  (layer2): Sequential(\n",
            "    (0): Conv2d(10, 50, kernel_size=(5, 5), stride=(1, 1), padding=(1, 1))\n",
            "    (1): BatchNorm2d(50, eps=1e-05, momentum=0.1, affine=True, track_running_stats=True)\n",
            "    (2): ReLU()\n",
            "    (3): MaxPool2d(kernel_size=2, stride=2, padding=0, dilation=1, ceil_mode=False)\n",
            "  )\n",
            "  (layer3): Sequential(\n",
            "    (0): Conv2d(50, 100, kernel_size=(5, 5), stride=(1, 1), padding=(1, 1))\n",
            "    (1): BatchNorm2d(100, eps=1e-05, momentum=0.1, affine=True, track_running_stats=True)\n",
            "    (2): ReLU()\n",
            "    (3): MaxPool2d(kernel_size=2, stride=2, padding=0, dilation=1, ceil_mode=False)\n",
            "  )\n",
            "  (dropout): Dropout(p=0.1, inplace=False)\n",
            "  (fc): Sequential(\n",
            "    (0): Linear(in_features=400, out_features=200, bias=True)\n",
            "    (1): Linear(in_features=200, out_features=100, bias=True)\n",
            "    (2): Linear(in_features=100, out_features=47, bias=True)\n",
            "  )\n",
            ")\n"
          ],
          "name": "stdout"
        }
      ]
    },
    {
      "cell_type": "code",
      "metadata": {
        "id": "UeJBRFob11cD"
      },
      "source": [
        "criterion = nn.CrossEntropyLoss()\n",
        "optimizer = torch.optim.Adam(model.parameters(), lr=learning_rate) "
      ],
      "execution_count": null,
      "outputs": []
    },
    {
      "cell_type": "markdown",
      "metadata": {
        "id": "2O12rLKw5BH8"
      },
      "source": [
        "## 5. Define train and evaluate functions"
      ]
    },
    {
      "cell_type": "code",
      "metadata": {
        "id": "6U0xHl4D7Nrc"
      },
      "source": [
        "def train(model, train_loader, optimizer, criterion): \n",
        "  model.train() # train mode\n",
        "  epoch_loss, acc, total = 0, 0, 0\n",
        "  total_step = len(train_loader)\n",
        "  for i, (image, label) in enumerate(train_loader):\n",
        "    image = image.to(device)\n",
        "    label = label.to(device)\n",
        "    # Forward\n",
        "    output = model(image)\n",
        "    loss = criterion(output, label)\n",
        "\n",
        "    # Backward and optimize\n",
        "    optimizer.zero_grad()\n",
        "    loss.backward()\n",
        "    optimizer.step()\n",
        "\n",
        "    epoch_loss += loss.item()\n",
        "    _, pred = torch.max(output.data, 1) \n",
        "    acc += (pred == label).sum().item()\n",
        "    total += len(label)\n",
        "  return epoch_loss/len(train_loader), acc / total * 100\n"
      ],
      "execution_count": null,
      "outputs": []
    },
    {
      "cell_type": "code",
      "metadata": {
        "id": "Vz4q_uKY7-ZN"
      },
      "source": [
        "def evaluate(model, data_loader, criterion):\n",
        "  model.eval() # evaluation mode\n",
        "  with torch.no_grad(): #backprop 기능 끄기\n",
        "    correct = 0\n",
        "    epoch_loss = 0\n",
        "    total=0\n",
        "    for img, lab in data_loader:\n",
        "      img = img.to(device)\n",
        "      lab = lab.to(device)\n",
        "      out = model(img)\n",
        "      _, pred = torch.max(out.data,1) \n",
        "      correct += (pred == lab).sum().item()\n",
        "      loss = criterion(out, lab)\n",
        "      epoch_loss += loss.item()\n",
        "      total += len(lab)\n",
        "  return epoch_loss/len(data_loader), correct / total * 100 "
      ],
      "execution_count": null,
      "outputs": []
    },
    {
      "cell_type": "markdown",
      "metadata": {
        "id": "vZo1XukW5J9H"
      },
      "source": [
        "## 6. Train the model"
      ]
    },
    {
      "cell_type": "code",
      "metadata": {
        "colab": {
          "base_uri": "https://localhost:8080/"
        },
        "id": "hkBQKVty8olS",
        "outputId": "1192a705-445e-48e1-a03e-288c545cc64a"
      },
      "source": [
        "print(\"----------------------- start training ---------------------------\")\n",
        "start = time.time() \n",
        "best_valid_loss = float('inf') # 무한대로 초기화\n",
        "best_epoch = 0\n",
        "train_error=[]\n",
        "valid_error=[]\n",
        "train_accuracy=[]\n",
        "valid_accuracy=[]\n",
        "for epoch in range(num_epochs):\n",
        "  train_loss, train_acc = train(model, train_loader, optimizer, criterion)\n",
        "  valid_loss, valid_acc = evaluate(model, valid_loader, criterion)\n",
        "  train_error.append(train_loss)\n",
        "  valid_error.append(valid_loss)\n",
        "  train_accuracy.append(train_acc)\n",
        "  valid_accuracy.append(valid_acc)\n",
        "\n",
        "  if valid_loss < best_valid_loss:\n",
        "    best_valid_loss = valid_loss\n",
        "    best_epoch = epoch\n",
        "    torch.save(model.state_dict(), \"epoch_{}.pth\".format(epoch+1))\n",
        "\n",
        "  print(\"Epoch[{}/{}], Train Loss:{:.4f}, Train Acc:{:.2f}, Valid Loss:{:.4f}, Valid Acc:{:.2f}\".format(epoch+1, num_epochs, train_loss, train_acc, valid_loss, valid_acc))\n",
        "\n",
        "result = pd.DataFrame([ x for x in zip(train_error, valid_error, train_accuracy, valid_accuracy)], \n",
        "                      index=[i+1 for i in range(num_epochs)],\n",
        "                      columns=[\"train_error\", \"valid_error\", \"train_accuracy\", \"valid_accuracy\"])\n",
        "end = time.time() # 마지막 \n",
        "print(\"Train takes {:.2f}minutes\".format((end-start)/60)) # 시간 출력\n",
        "print(\"----------------------- training ended ---------------------------\")"
      ],
      "execution_count": null,
      "outputs": [
        {
          "output_type": "stream",
          "text": [
            "----------------------- start training ---------------------------\n",
            "Epoch[1/10], Train Loss:0.3926, Train Acc:86.48, Valid Loss:0.3217, Valid Acc:88.73\n",
            "Epoch[2/10], Train Loss:0.3045, Train Acc:89.01, Valid Loss:0.2906, Valid Acc:89.42\n",
            "Epoch[3/10], Train Loss:0.2824, Train Acc:89.68, Valid Loss:0.2824, Valid Acc:89.65\n",
            "Epoch[4/10], Train Loss:0.2698, Train Acc:90.02, Valid Loss:0.2745, Valid Acc:89.92\n",
            "Epoch[5/10], Train Loss:0.2604, Train Acc:90.28, Valid Loss:0.2704, Valid Acc:90.01\n",
            "Epoch[6/10], Train Loss:0.2519, Train Acc:90.51, Valid Loss:0.2656, Valid Acc:90.25\n",
            "Epoch[7/10], Train Loss:0.2452, Train Acc:90.65, Valid Loss:0.2668, Valid Acc:90.21\n",
            "Epoch[8/10], Train Loss:0.2387, Train Acc:90.87, Valid Loss:0.2649, Valid Acc:90.25\n",
            "Epoch[9/10], Train Loss:0.2338, Train Acc:91.00, Valid Loss:0.2699, Valid Acc:90.20\n",
            "Epoch[10/10], Train Loss:0.2292, Train Acc:91.15, Valid Loss:0.2724, Valid Acc:90.09\n",
            "Train takes 13.56minutes\n",
            "----------------------- training ended ---------------------------\n"
          ],
          "name": "stdout"
        }
      ]
    },
    {
      "cell_type": "code",
      "metadata": {
        "id": "Bo5m_j88RauD"
      },
      "source": [
        "model.load_state_dict(torch.load('./epoch_{}.pth'.format(best_epoch)))\n",
        "torch.save(model.state_dict(), \"model2.pth\")"
      ],
      "execution_count": null,
      "outputs": []
    },
    {
      "cell_type": "markdown",
      "metadata": {
        "id": "juCBPyX15ccw"
      },
      "source": [
        "## 7. Check loss & accuracy function"
      ]
    },
    {
      "cell_type": "code",
      "metadata": {
        "colab": {
          "base_uri": "https://localhost:8080/",
          "height": 295
        },
        "id": "BQ-2SHHS5cBx",
        "outputId": "4446977f-5020-45b6-9c5d-34e8f36716a3"
      },
      "source": [
        "plt.plot(result['train_error'])\n",
        "plt.plot(result['valid_error'])\n",
        "plt.title('model2 loss')\n",
        "plt.ylabel('loss')\n",
        "plt.xlabel('epoch')\n",
        "plt.legend(['train', 'valid'], loc='upper left')\n",
        "plt.show()"
      ],
      "execution_count": null,
      "outputs": [
        {
          "output_type": "display_data",
          "data": {
            "image/png": "[encoded data removed]",
            "text/plain": [
              "<Figure size 432x288 with 1 Axes>"
            ]
          },
          "metadata": {
            "tags": [],
            "needs_background": "light"
          }
        }
      ]
    },
    {
      "cell_type": "code",
      "metadata": {
        "id": "9Iq3WkGjGwJw",
        "colab": {
          "base_uri": "https://localhost:8080/",
          "height": 295
        },
        "outputId": "a7111f73-5d67-4b58-de1f-436c9d88c702"
      },
      "source": [
        "plt.plot(result['train_accuracy'])\n",
        "plt.plot(result['valid_accuracy'])\n",
        "plt.title('model2 accuracy')\n",
        "plt.ylabel('accuracy')\n",
        "plt.xlabel('epoch')\n",
        "plt.legend(['train', 'valid'], loc='upper left')\n",
        "plt.show()"
      ],
      "execution_count": null,
      "outputs": [
        {
          "output_type": "display_data",
          "data": {
            "image/png": "[encoded data removed]",
            "text/plain": [
              "<Figure size 432x288 with 1 Axes>"
            ]
          },
          "metadata": {
            "tags": [],
            "needs_background": "light"
          }
        }
      ]
    },
    {
      "cell_type": "markdown",
      "metadata": {
        "id": "Uy0neBDL5WI2"
      },
      "source": [
        "## 8. Evaluate the model"
      ]
    },
    {
      "cell_type": "code",
      "metadata": {
        "colab": {
          "base_uri": "https://localhost:8080/"
        },
        "id": "7OqvjgYBEnYT",
        "outputId": "b830d582-e57f-4b74-9f0e-5d40a0ec6dcd"
      },
      "source": [
        "model.load_state_dict(torch.load('model2.pth'))\n",
        "\n",
        "test_loss, test_acc = evaluate(model, test_loader, criterion)\n",
        "print(\"Test Accuracy:{:.2f}% (Loss:{:.4f})\".format(test_acc, test_loss))"
      ],
      "execution_count": null,
      "outputs": [
        {
          "output_type": "stream",
          "text": [
            "Test Accuracy:90.35% (Loss:0.2668)\n"
          ],
          "name": "stdout"
        }
      ]
    },
    {
      "cell_type": "code",
      "metadata": {
        "id": "u5d966Dy3k7m",
        "colab": {
          "base_uri": "https://localhost:8080/"
        },
        "outputId": "c1b0390a-17e2-4ac7-cacc-44cf882a8f10"
      },
      "source": [
        "print(best_epoch)"
      ],
      "execution_count": null,
      "outputs": [
        {
          "output_type": "stream",
          "text": [
            "7\n"
          ],
          "name": "stdout"
        }
      ]
    }
  ]
}